{
  "nbformat": 4,
  "nbformat_minor": 0,
  "metadata": {
    "colab": {
      "provenance": [],
      "authorship_tag": "ABX9TyPGr2sMPJjVbYxMQbbF0zXH",
      "include_colab_link": true
    },
    "kernelspec": {
      "name": "python3",
      "display_name": "Python 3"
    },
    "language_info": {
      "name": "python"
    }
  },
  "cells": [
    {
      "cell_type": "markdown",
      "metadata": {
        "id": "view-in-github",
        "colab_type": "text"
      },
      "source": [
        "<a href=\"https://colab.research.google.com/github/TuscanoFranzIvan/58003-OOP/blob/main/Classes_and_Objects.ipynb\" target=\"_parent\"><img src=\"https://colab.research.google.com/assets/colab-badge.svg\" alt=\"Open In Colab\"/></a>"
      ]
    },
    {
      "cell_type": "code",
      "execution_count": 6,
      "metadata": {
        "colab": {
          "base_uri": "https://localhost:8080/"
        },
        "id": "q-7CYxAQUqC3",
        "outputId": "23f85f9b-f7a7-4f3c-d8ea-d55ed9539214"
      },
      "outputs": [
        {
          "output_type": "stream",
          "name": "stdout",
          "text": [
            "The perimeter of the rectangle is  30\n",
            "The area of the rectangle is  50\n"
          ]
        },
        {
          "output_type": "execute_result",
          "data": {
            "text/plain": [
              "(10, 5)"
            ]
          },
          "metadata": {},
          "execution_count": 6
        }
      ],
      "source": [
        "#Write a Rectangle class in Python language with length and width as attributes\n",
        "#Create a Perimeter() and Area() as methods to compute for the perimete and area of the rectangle\n",
        "\n",
        "class Rectangle:\n",
        "  def __init__(self,length,width):\n",
        "    self.length = length\n",
        "    self.width = width\n",
        "\n",
        "  def Perimeter(self):\n",
        "    return 2*(self.length + self.width)\n",
        "\n",
        "  def Area(self):\n",
        "    return self.length * self.width\n",
        "\n",
        "  def Rectangle(self):\n",
        "    return self.length, self.width\n",
        "\n",
        "  def display(self):\n",
        "    print(\"The perimeter of the rectangle is \", self.Perimeter())\n",
        "    print(\"The area of the rectangle is \", self.Area())\n",
        "\n",
        "rectangle = Rectangle(10,5)\n",
        "\n",
        "rectangle.display()\n",
        "rectangle.Rectangle()"
      ]
    },
    {
      "cell_type": "code",
      "source": [
        "#Modify the object properties\n",
        "rectangle.length = 7\n",
        "\n",
        "rectangle.Rectangle()\n",
        "\n",
        "rectangle.display()"
      ],
      "metadata": {
        "colab": {
          "base_uri": "https://localhost:8080/"
        },
        "id": "USXZN8GzV9J-",
        "outputId": "0f1fb285-d613-40df-b562-ff51fe690e11"
      },
      "execution_count": 7,
      "outputs": [
        {
          "output_type": "stream",
          "name": "stdout",
          "text": [
            "The perimeter of the rectangle is  24\n",
            "The area of the rectangle is  35\n"
          ]
        }
      ]
    },
    {
      "cell_type": "code",
      "source": [
        "#Deletion of object properties\n",
        "\n",
        "del Rectangle\n",
        "rectangle.Rectangle()"
      ],
      "metadata": {
        "colab": {
          "base_uri": "https://localhost:8080/"
        },
        "id": "KlzbxCRKWMtB",
        "outputId": "d9ee8d11-f202-4625-8071-d881487dacd6"
      },
      "execution_count": 8,
      "outputs": [
        {
          "output_type": "execute_result",
          "data": {
            "text/plain": [
              "(7, 5)"
            ]
          },
          "metadata": {},
          "execution_count": 8
        }
      ]
    },
    {
      "cell_type": "code",
      "source": [
        "#Short Activity\n",
        "\n",
        "#Write a Python program to create the following:\n",
        "# Student as a Class Name\n",
        "# Full Name, Age, and School as Attributes\n",
        "# Identity as Method\n",
        "# Student as Object Name\n",
        "\n",
        "#Note: This will display all the student's identity such as Full Name, Age, and School\n",
        "\n",
        "class Student:\n",
        "    def __init__(self, full_name, age, school):\n",
        "        self.full_name = full_name\n",
        "        self.age = age\n",
        "        self.school = school\n",
        "    \n",
        "    def identity(self):\n",
        "        print(f\"Name: {self.full_name}\\nAge: {self.age}\\nSchool: {self.school}\")\n",
        "\n",
        "student1 = Student(\"Franz Ivan Tuscano\", 21, \"Adamson University\")\n",
        "\n",
        "student1.identity()"
      ],
      "metadata": {
        "colab": {
          "base_uri": "https://localhost:8080/"
        },
        "id": "oJDJKH-IWjLA",
        "outputId": "d55d6450-f627-4485-cadc-c84f4e94b5f6"
      },
      "execution_count": 10,
      "outputs": [
        {
          "output_type": "stream",
          "name": "stdout",
          "text": [
            "Name: Franz Ivan Tuscano\n",
            "Age: 21\n",
            "School: Adamson University\n"
          ]
        }
      ]
    }
  ]
}