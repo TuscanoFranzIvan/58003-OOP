{
  "nbformat": 4,
  "nbformat_minor": 0,
  "metadata": {
    "colab": {
      "provenance": [],
      "authorship_tag": "ABX9TyM3oe9A+GqKtqpTztiCHV9O",
      "include_colab_link": true
    },
    "kernelspec": {
      "name": "python3",
      "display_name": "Python 3"
    },
    "language_info": {
      "name": "python"
    }
  },
  "cells": [
    {
      "cell_type": "markdown",
      "metadata": {
        "id": "view-in-github",
        "colab_type": "text"
      },
      "source": [
        "<a href=\"https://colab.research.google.com/github/TuscanoFranzIvan/58003-OOP/blob/main/Python_Fundamentals.ipynb\" target=\"_parent\"><img src=\"https://colab.research.google.com/assets/colab-badge.svg\" alt=\"Open In Colab\"/></a>"
      ]
    },
    {
      "cell_type": "markdown",
      "source": [
        "Casting"
      ],
      "metadata": {
        "id": "SQ-5AcRDdDy2"
      }
    },
    {
      "cell_type": "code",
      "source": [
        "a = \"tuscano\"\n",
        "b = int(4)\n",
        "print(b)\n",
        "b = float(4)\n",
        "print(a)"
      ],
      "metadata": {
        "colab": {
          "base_uri": "https://localhost:8080/"
        },
        "id": "581pXzZAdFq9",
        "outputId": "e45babad-07b5-48ae-d3cc-1c6db9e12e13"
      },
      "execution_count": 4,
      "outputs": [
        {
          "output_type": "stream",
          "name": "stdout",
          "text": [
            "4\n",
            "tuscano\n"
          ]
        }
      ]
    },
    {
      "cell_type": "markdown",
      "source": [
        "Type() Function"
      ],
      "metadata": {
        "id": "r4C6kGYIdLNk"
      }
    },
    {
      "cell_type": "code",
      "source": [
        "a = \"Tuscano\"\n",
        "print(type(a))\n",
        "b = float(4)\n",
        "print(type(b))"
      ],
      "metadata": {
        "colab": {
          "base_uri": "https://localhost:8080/"
        },
        "id": "MOkkwgagdNyl",
        "outputId": "f2526edd-91e3-41b9-f514-801844519e0f"
      },
      "execution_count": 6,
      "outputs": [
        {
          "output_type": "stream",
          "name": "stdout",
          "text": [
            "<class 'str'>\n",
            "<class 'float'>\n"
          ]
        }
      ]
    },
    {
      "cell_type": "markdown",
      "source": [
        "Double or Single Quotes"
      ],
      "metadata": {
        "id": "GrTjmkRVd1mm"
      }
    },
    {
      "cell_type": "code",
      "source": [
        "Y = \"tuss\"\n",
        "y = 'tuscano'\n",
        "print(y)\n",
        "print(Y)"
      ],
      "metadata": {
        "colab": {
          "base_uri": "https://localhost:8080/"
        },
        "id": "Aw-umywNd4k1",
        "outputId": "e7dc2b9e-4968-4b68-a789-0e9a9d497eac"
      },
      "execution_count": 8,
      "outputs": [
        {
          "output_type": "stream",
          "name": "stdout",
          "text": [
            "tuscano\n",
            "tuss\n"
          ]
        }
      ]
    },
    {
      "cell_type": "code",
      "source": [
        "a = \"Ivan\"\n",
        "print(a)"
      ],
      "metadata": {
        "colab": {
          "base_uri": "https://localhost:8080/"
        },
        "id": "wt9_4iszeYRW",
        "outputId": "9b21d97a-cbf6-4c48-d6dc-78e408ae1c3c"
      },
      "execution_count": 11,
      "outputs": [
        {
          "output_type": "stream",
          "name": "stdout",
          "text": [
            "Ivan\n"
          ]
        }
      ]
    },
    {
      "cell_type": "code",
      "source": [
        "print(a)"
      ],
      "metadata": {
        "colab": {
          "base_uri": "https://localhost:8080/"
        },
        "id": "McnLodPMerId",
        "outputId": "f5c1b405-024a-486c-bb27-7df967e7d26f"
      },
      "execution_count": 12,
      "outputs": [
        {
          "output_type": "stream",
          "name": "stdout",
          "text": [
            "Ivan\n"
          ]
        }
      ]
    },
    {
      "cell_type": "markdown",
      "source": [
        "Concatenation"
      ],
      "metadata": {
        "id": "08e3nMEge7CN"
      }
    },
    {
      "cell_type": "code",
      "source": [
        "l = \"hard\"\n",
        "print(\"python is\" + l)"
      ],
      "metadata": {
        "colab": {
          "base_uri": "https://localhost:8080/"
        },
        "id": "2HCN2zfJfFH_",
        "outputId": "c65f39dc-e90c-4c74-def3-bc449f733cdd"
      },
      "execution_count": 16,
      "outputs": [
        {
          "output_type": "stream",
          "name": "stdout",
          "text": [
            "python is hard\n"
          ]
        }
      ]
    }
  ]
}