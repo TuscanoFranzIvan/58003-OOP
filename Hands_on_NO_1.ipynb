{
  "nbformat": 4,
  "nbformat_minor": 0,
  "metadata": {
    "colab": {
      "provenance": [],
      "authorship_tag": "ABX9TyNJnew/Mpy6O59+J7iL6Lht",
      "include_colab_link": true
    },
    "kernelspec": {
      "name": "python3",
      "display_name": "Python 3"
    },
    "language_info": {
      "name": "python"
    }
  },
  "cells": [
    {
      "cell_type": "markdown",
      "metadata": {
        "id": "view-in-github",
        "colab_type": "text"
      },
      "source": [
        "<a href=\"https://colab.research.google.com/github/TuscanoFranzIvan/58003-OOP/blob/main/Hands_on_NO_1.ipynb\" target=\"_parent\"><img src=\"https://colab.research.google.com/assets/colab-badge.svg\" alt=\"Open In Colab\"/></a>"
      ]
    },
    {
      "cell_type": "code",
      "execution_count": 4,
      "metadata": {
        "id": "AxicL9WRMcCy",
        "colab": {
          "base_uri": "https://localhost:8080/"
        },
        "outputId": "b4a039fe-4670-47d9-f760-b5979b7ced7f"
      },
      "outputs": [
        {
          "output_type": "stream",
          "name": "stdout",
          "text": [
            "The Final Semestral Grade is  99.0\n",
            "The Final Semestral Grade is  99.0\n",
            "The Final Semestral Grade is  99.0\n"
          ]
        }
      ],
      "source": [
        "class Person:\n",
        "  def __init__(self,pre,mid,fin):\n",
        "    self.__pre = pre\n",
        "    self.__mid = mid\n",
        "    self.__fin = fin\n",
        "\n",
        "  def grade(self):\n",
        "    average = (self.__pre+self.__mid+self.__fin)/3\n",
        "    print(\"The Final Semestral Grade is \",average)\n",
        "\n",
        "std1 = Person(99,99,99)\n",
        "std1.grade()\n",
        "\n",
        "std2 = Person(99,99,99)\n",
        "std2.grade()\n",
        "\n",
        "std3 = Person(99,99,99)\n",
        "std3.grade()"
      ]
    }
  ]
}