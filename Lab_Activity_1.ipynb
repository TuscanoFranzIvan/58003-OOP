{
  "nbformat": 4,
  "nbformat_minor": 0,
  "metadata": {
    "colab": {
      "provenance": [],
      "authorship_tag": "ABX9TyP+SLKw0w2pMu9rm7zIPRzG",
      "include_colab_link": true
    },
    "kernelspec": {
      "name": "python3",
      "display_name": "Python 3"
    },
    "language_info": {
      "name": "python"
    }
  },
  "cells": [
    {
      "cell_type": "markdown",
      "metadata": {
        "id": "view-in-github",
        "colab_type": "text"
      },
      "source": [
        "<a href=\"https://colab.research.google.com/github/TuscanoFranzIvan/58003-OOP/blob/main/Lab_Activity_1.ipynb\" target=\"_parent\"><img src=\"https://colab.research.google.com/assets/colab-badge.svg\" alt=\"Open In Colab\"/></a>"
      ]
    },
    {
      "cell_type": "code",
      "source": [
        "n = 20\n",
        "totalnumbers = n\n",
        "sum = 0 \n",
        "average = 0\n",
        "while n>=0:\n",
        "  sum+=n\n",
        "  n-=1 \n",
        " \n",
        "\n",
        "else:\n",
        "  print(sum)\n",
        "\n",
        "average =  sum/totalnumbers\n",
        "print(\"Average=\", average)"
      ],
      "metadata": {
        "colab": {
          "base_uri": "https://localhost:8080/"
        },
        "id": "ZFpLBEy-0zRQ",
        "outputId": "8790981d-fb13-441e-c282-ebcdfef576d8"
      },
      "execution_count": 3,
      "outputs": [
        {
          "output_type": "stream",
          "name": "stdout",
          "text": [
            "210\n",
            "Average= 10.5\n"
          ]
        }
      ]
    },
    {
      "cell_type": "code",
      "execution_count": 1,
      "metadata": {
        "colab": {
          "base_uri": "https://localhost:8080/"
        },
        "id": "KIxi9ARF0QNU",
        "outputId": "ecaf1321-eb70-48c8-8398-b89594ecc2ae"
      },
      "outputs": [
        {
          "output_type": "stream",
          "name": "stdout",
          "text": [
            "1\n",
            "Average= 0.05\n"
          ]
        }
      ],
      "source": [
        "n = 20\n",
        "totalnumbers = n\n",
        "multiply = 0 \n",
        "average = 0\n",
        "while n>=0:\n",
        "  multiply**=n\n",
        "  multiply=multiply**n\n",
        "  n-=1 \n",
        "  n=n-1\n",
        "\n",
        "else:\n",
        "  print(multiply)\n",
        "\n",
        "average =  multiply/totalnumbers\n",
        "print(\"Average=\", average)"
      ]
    }
  ]
}