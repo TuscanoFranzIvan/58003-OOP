{
  "nbformat": 4,
  "nbformat_minor": 0,
  "metadata": {
    "colab": {
      "provenance": [],
      "authorship_tag": "ABX9TyNcpY9GPm9Db/GL3eo9YC8J",
      "include_colab_link": true
    },
    "kernelspec": {
      "name": "python3",
      "display_name": "Python 3"
    },
    "language_info": {
      "name": "python"
    }
  },
  "cells": [
    {
      "cell_type": "markdown",
      "metadata": {
        "id": "view-in-github",
        "colab_type": "text"
      },
      "source": [
        "<a href=\"https://colab.research.google.com/github/TuscanoFranzIvan/58003-OOP/blob/main/Control_Structure.ipynb\" target=\"_parent\"><img src=\"https://colab.research.google.com/assets/colab-badge.svg\" alt=\"Open In Colab\"/></a>"
      ]
    },
    {
      "cell_type": "markdown",
      "source": [
        "If  and Elif Condition"
      ],
      "metadata": {
        "id": "ShNYjwMN7sAA"
      }
    },
    {
      "cell_type": "code",
      "source": [
        "if 3>5:\n",
        "  print(\"3 is greater than 5\")\n",
        "elif 3<5:\n",
        "  print(\"3 is less than 5\")"
      ],
      "metadata": {
        "colab": {
          "base_uri": "https://localhost:8080/"
        },
        "id": "gU2dh8pT7vTQ",
        "outputId": "5f68b5b6-a52d-4aaf-ba12-097e68bb478d"
      },
      "execution_count": 8,
      "outputs": [
        {
          "output_type": "stream",
          "name": "stdout",
          "text": [
            "3 is less than 5\n"
          ]
        }
      ]
    },
    {
      "cell_type": "markdown",
      "source": [
        "if, elif, and else"
      ],
      "metadata": {
        "id": "T2jKTNPY9JMI"
      }
    },
    {
      "cell_type": "code",
      "source": [
        "if 3>5:\n",
        "  print(\"3 is greater than 5\")\n",
        "elif 3<5:\n",
        "  print(\"3 is less than 5\")\n",
        "else:\n",
        "  print(\"3 is equal 5\")"
      ],
      "metadata": {
        "colab": {
          "base_uri": "https://localhost:8080/"
        },
        "id": "qINHuMr893k3",
        "outputId": "f6695c94-e59e-426d-87d9-a3d77a0de88a"
      },
      "execution_count": 10,
      "outputs": [
        {
          "output_type": "stream",
          "name": "stdout",
          "text": [
            "3 is less than 5\n"
          ]
        }
      ]
    },
    {
      "cell_type": "markdown",
      "source": [
        "Application 1- create a python program that will compare if the student is in the Elementary, Secondary, and Tertiary level"
      ],
      "metadata": {
        "id": "XRKz8NCY-WYg"
      }
    },
    {
      "cell_type": "code",
      "source": [
        "print(\"type the grade level of student\")\n",
        "print(\"1 - 6 = Elementary\")\n",
        "print(\"7 - 12 = Secondary\")\n",
        "print(\"None of the choices above = Tertiary\")\n",
        "\n",
        "x = int(input())\n",
        "if x ==1 or x ==2 or x ==3 or x ==4 or x ==5 or x ==6:\n",
        "  print(\"Elementary\")\n",
        "elif x ==7 or x ==8 or x ==9 or x ==10 or x ==11 or  x==12:\n",
        "  print(\"Secondary\")\n",
        "else:\n",
        "  print(\"You're in Tertiary level\")"
      ],
      "metadata": {
        "colab": {
          "base_uri": "https://localhost:8080/"
        },
        "id": "hqrTt1B4-pX3",
        "outputId": "1eb08a39-ee91-4fd5-8933-64dc757db44e"
      },
      "execution_count": 28,
      "outputs": [
        {
          "output_type": "stream",
          "name": "stdout",
          "text": [
            "type the grade level of student\n",
            "1 - 6 = Elementary\n",
            "7 - 12 = Secondary\n",
            "None of the choices above = Tertiary\n",
            "96\n",
            "You're in Tertiary level\n"
          ]
        }
      ]
    },
    {
      "cell_type": "markdown",
      "source": [
        "Short Hand If Statement"
      ],
      "metadata": {
        "id": "p5BHC6nWBz_A"
      }
    },
    {
      "cell_type": "code",
      "source": [
        "a = 1\n",
        "b = 2\n",
        "\n",
        "if a<b: print(\"a is less than b\")"
      ],
      "metadata": {
        "colab": {
          "base_uri": "https://localhost:8080/"
        },
        "id": "iXq_76wKB2_A",
        "outputId": "21c94a6b-254d-40ad-abf1-0f5f654f5689"
      },
      "execution_count": 29,
      "outputs": [
        {
          "output_type": "stream",
          "name": "stdout",
          "text": [
            "a is less than b\n"
          ]
        }
      ]
    },
    {
      "cell_type": "markdown",
      "source": [
        "Short Hand If....Else"
      ],
      "metadata": {
        "id": "qq3ZVZyTClWO"
      }
    },
    {
      "cell_type": "code",
      "source": [
        "print(\"a is less than b\")if a<b else print(\"a is greater than b\")"
      ],
      "metadata": {
        "colab": {
          "base_uri": "https://localhost:8080/"
        },
        "id": "mh04irJTCpQW",
        "outputId": "8baff67e-8678-49de-fb1d-32ed02618fb1"
      },
      "execution_count": 31,
      "outputs": [
        {
          "output_type": "stream",
          "name": "stdout",
          "text": [
            "a is less than b\n"
          ]
        }
      ]
    },
    {
      "cell_type": "markdown",
      "source": [
        "Nested If"
      ],
      "metadata": {
        "id": "QfP3Gk6ODrQ3"
      }
    },
    {
      "cell_type": "code",
      "source": [
        "x = 41\n",
        "\n",
        "if x>10:\n",
        "  print(\"Above 10\")\n",
        "  if x>20:\n",
        "    print(\"and also above 20\")\n",
        "  else:\n",
        "    print(\"but not above 20\")\n",
        "  if x>30:\n",
        "    print(\"and above 30\")\n",
        "  else:\n",
        "    print(\"but not above 30\")\n",
        "  if x>40:\n",
        "    print(\"and above 40\")\n",
        "  else:\n",
        "    print(\"but not above 40\")\n",
        "  if x<50:\n",
        "    print(\"but not below 50\")\n",
        "  else:\n",
        "    print(\"above 50\")\n",
        "else:\n",
        "  print(\"but not above 10\")"
      ],
      "metadata": {
        "colab": {
          "base_uri": "https://localhost:8080/"
        },
        "id": "XAwW7ZSaDsYf",
        "outputId": "40cdfd73-0a64-49d5-cb34-09796b3f9fbb"
      },
      "execution_count": 45,
      "outputs": [
        {
          "output_type": "stream",
          "name": "stdout",
          "text": [
            "Above 10\n",
            "and also above 20\n",
            "and above 30\n",
            "and above 40\n",
            "but not below 50\n"
          ]
        }
      ]
    },
    {
      "cell_type": "code",
      "source": [
        "x = 41\n",
        "\n",
        "if x>10:\n",
        "  print(\"Above 10\")\n",
        "  if x>20:\n",
        "    print(\"and also above 20\")\n",
        "    if x>30:\n",
        "      print(\"and also above 30\")\n",
        "      if x>40:\n",
        "        print(\"and also above 40\")\n",
        "        if x<50:\n",
        "          print(\"but below 50\")\n",
        "        else:\n",
        "          print(\"below 50\")\n",
        "      else:\n",
        "        print(\"below 40\")\n",
        "    else:\n",
        "      print(\"below 30\")\n",
        "  else:\n",
        "    print(\"below 20\")\n",
        "else:\n",
        "  print(\"below 10\")"
      ],
      "metadata": {
        "colab": {
          "base_uri": "https://localhost:8080/"
        },
        "id": "Q-y6rVvSGv2X",
        "outputId": "2372d686-a807-462f-bdac-60a4fd13961a"
      },
      "execution_count": 44,
      "outputs": [
        {
          "output_type": "stream",
          "name": "stdout",
          "text": [
            "Above 10\n",
            "and also above 20\n",
            "and also above 30\n",
            "and also above 40\n",
            "but below 50\n"
          ]
        }
      ]
    },
    {
      "cell_type": "markdown",
      "source": [
        "Example 1"
      ],
      "metadata": {
        "id": "vxi-0LOlJpYP"
      }
    },
    {
      "cell_type": "code",
      "source": [
        "print(\"Input Age\")\n",
        "x = int(input())\n",
        "\n",
        "if x>18:\n",
        "  print(\"Qualified to Vote\")\n",
        "else:\n",
        "  print(\"Not Qualified to Vote\")"
      ],
      "metadata": {
        "colab": {
          "base_uri": "https://localhost:8080/"
        },
        "id": "6-kjGjIiJqxX",
        "outputId": "d04159be-31c5-44ba-951c-719bee5972a3"
      },
      "execution_count": 52,
      "outputs": [
        {
          "output_type": "stream",
          "name": "stdout",
          "text": [
            "Input Age\n",
            "17\n",
            "Not Qualified to Vote\n"
          ]
        }
      ]
    },
    {
      "cell_type": "markdown",
      "source": [
        "Example 2"
      ],
      "metadata": {
        "id": "FthJ4QybKm2H"
      }
    },
    {
      "cell_type": "code",
      "source": [
        "print(\"Input Number\")\n",
        "x = int(input())\n",
        "\n",
        "if x==0:\n",
        "  print(\"Zero\")\n",
        "elif x<0:\n",
        "  print(\"Negative\")\n",
        "else:\n",
        "  print(\"Positive\")"
      ],
      "metadata": {
        "colab": {
          "base_uri": "https://localhost:8080/"
        },
        "id": "bdfyT4VFKok_",
        "outputId": "8493e556-b09c-40f7-e279-3d0020955c1a"
      },
      "execution_count": 59,
      "outputs": [
        {
          "output_type": "stream",
          "name": "stdout",
          "text": [
            "Input Number\n",
            "69\n",
            "Positive\n"
          ]
        }
      ]
    },
    {
      "cell_type": "markdown",
      "source": [
        "Example 3"
      ],
      "metadata": {
        "id": "cUpxvg1TMVZX"
      }
    },
    {
      "cell_type": "code",
      "source": [
        "print(\"Input Subject Grades\")\n",
        "u = float(input())\n",
        "v = float(input())\n",
        "x = float(input())\n",
        "y = float(input())\n",
        "z = float(input())\n",
        "\n",
        "a = u*0.10 + v*0.20 + x*0.20 + y*0.30 + z*0.20 \n",
        "print(\"Your average grade is\",a)\n",
        "if a>75:\n",
        "  print(\"Passed\")\n",
        "elif a>70:\n",
        "  print(\"Remedial\")\n",
        "elif a>0:\n",
        "  print(\"Failed\")\n",
        "else:\n",
        "  print(\"Negative/No output\")"
      ],
      "metadata": {
        "colab": {
          "base_uri": "https://localhost:8080/"
        },
        "id": "BhM5bK-ZMWpf",
        "outputId": "f084d350-6497-4602-c3fe-3666e78757b3"
      },
      "execution_count": 80,
      "outputs": [
        {
          "output_type": "stream",
          "name": "stdout",
          "text": [
            "Input Subject Grades\n",
            "-14.9\n",
            "-15.9\n",
            "70\n",
            "89.9\n",
            "90\n",
            "Your average grade is 54.300000000000004\n",
            "Failed\n"
          ]
        }
      ]
    }
  ]
}