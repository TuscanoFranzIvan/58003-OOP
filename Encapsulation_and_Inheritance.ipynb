{
  "nbformat": 4,
  "nbformat_minor": 0,
  "metadata": {
    "colab": {
      "provenance": [],
      "authorship_tag": "ABX9TyPZaGjVz4GMirIGchPuVB8g",
      "include_colab_link": true
    },
    "kernelspec": {
      "name": "python3",
      "display_name": "Python 3"
    },
    "language_info": {
      "name": "python"
    }
  },
  "cells": [
    {
      "cell_type": "markdown",
      "metadata": {
        "id": "view-in-github",
        "colab_type": "text"
      },
      "source": [
        "<a href=\"https://colab.research.google.com/github/TuscanoFranzIvan/58003-OOP/blob/main/Encapsulation_and_Inheritance.ipynb\" target=\"_parent\"><img src=\"https://colab.research.google.com/assets/colab-badge.svg\" alt=\"Open In Colab\"/></a>"
      ]
    },
    {
      "cell_type": "code",
      "execution_count": 11,
      "metadata": {
        "colab": {
          "base_uri": "https://localhost:8080/"
        },
        "id": "P9zJOi7YHwLr",
        "outputId": "e60b6fde-2242-4819-ea09-09bc9eaba604"
      },
      "outputs": [
        {
          "output_type": "execute_result",
          "data": {
            "text/plain": [
              "7"
            ]
          },
          "metadata": {},
          "execution_count": 11
        }
      ],
      "source": [
        "#Example 1\n",
        "\n",
        "class foo:\n",
        "  def __init__(self, a,b):\n",
        "    self.__a=a\n",
        "    self.__b=b\n",
        "  def add(self):\n",
        "    return self.__a + self.__b\n",
        "foo_object = foo(3,4)\n",
        "foo_object.add()"
      ]
    },
    {
      "cell_type": "code",
      "source": [
        "#Example 2\n",
        "\n",
        "class Counter:\n",
        "  def __init__(self,current):\n",
        "    self.__current = 0\n",
        "  def increment(self):\n",
        "    self.__current += 1\n",
        "  def value (self):\n",
        "    return self.__current\n",
        "  def reset(self):\n",
        "    self.__current = 0\n",
        "  def display_counter(self):\n",
        "    print(\"The increment is\", self.increment())\n",
        "    print(\"The current value is\", self.value())\n",
        "    print(\"Reset values is\", self.reset())\n",
        "\n",
        "counter1 = Counter(1)\n",
        "counter1.display_counter()"
      ],
      "metadata": {
        "colab": {
          "base_uri": "https://localhost:8080/"
        },
        "id": "k75QGphmaLt7",
        "outputId": "afc1df6f-4f35-4ad4-84d8-9b90793d79fd"
      },
      "execution_count": 25,
      "outputs": [
        {
          "output_type": "stream",
          "name": "stdout",
          "text": [
            "The increment is None\n",
            "The current value is 1\n",
            "Reset values is None\n"
          ]
        }
      ]
    },
    {
      "cell_type": "code",
      "source": [
        "class Person:\n",
        "  def __init__(self,name,birthdate):\n",
        "    self.name = name\n",
        "    self.birthdate = birthdate\n",
        "  def display_identity(self):\n",
        "    print(\"My name is\", self.name)\n",
        "    print(\"My birthdate is\", self.birthdate)\n",
        "class Teacher(Person):\n",
        "  pass\n",
        "\n",
        "class Student(Person):\n",
        "  pass\n",
        "\n",
        "teacher = Teacher(\"Tuscano\", \"January 26, 2002\")\n",
        "student = Person(\"Tuss\", \"January 26, 2002\")\n",
        "\n",
        "teacher.display_identity()\n",
        "student.display_identity()"
      ],
      "metadata": {
        "colab": {
          "base_uri": "https://localhost:8080/"
        },
        "id": "Lpp_9bYHgDjz",
        "outputId": "29866d59-8c2f-4ddd-99d8-618924737115"
      },
      "execution_count": 30,
      "outputs": [
        {
          "output_type": "stream",
          "name": "stdout",
          "text": [
            "My name is Tuscano\n",
            "My birthdate is January 26, 2002\n",
            "My name is Tuss\n",
            "My birthdate is January 26, 2002\n"
          ]
        }
      ]
    },
    {
      "cell_type": "code",
      "source": [
        "#Choose 5 examples of shapes (e.g. triangle, square, rectangle)\n",
        "#class name is Shape\n",
        "#sides as attributes\n",
        "#Display() method to show the number of sides\n",
        "#Apply encapsulation by mangling (double underscore)\n",
        "#Inherit the properties of each shape from the parent class Shape\n",
        "\n",
        "class Shapes:\n",
        "  def __init__(self,sides):\n",
        "    self.__sides = sides\n",
        "  def display_identity(self):\n",
        "    print(\"The Shape sides is\", self.__sides)\n",
        "class Rectangle(Shapes):\n",
        "  pass\n",
        "class Hexagon(Shapes):\n",
        "  pass\n",
        "class Square(Shapes):\n",
        "  pass\n",
        "class Pentagon(Shapes):\n",
        "  pass\n",
        "class Heptagon(Shapes):\n",
        "  pass\n",
        "\n",
        "rectangle = Rectangle(\"4\")\n",
        "hexagon = Hexagon(\"6\")\n",
        "square = Square(\"4\")\n",
        "pentagon = Pentagon(\"5\")\n",
        "heptagon = Heptagon(\"8\")\n",
        "\n",
        "rectangle.display_identity()\n",
        "hexagon.display_identity()\n",
        "square.display_identity()\n",
        "pentagon.display_identity()\n",
        "heptagon.display_identity()"
      ],
      "metadata": {
        "colab": {
          "base_uri": "https://localhost:8080/"
        },
        "id": "AlcO17FRiH87",
        "outputId": "0e96124e-9375-49ea-8e0b-83b64dd0d5d3"
      },
      "execution_count": 33,
      "outputs": [
        {
          "output_type": "stream",
          "name": "stdout",
          "text": [
            "The Shape sides is 4\n",
            "The Shape sides is 6\n",
            "The Shape sides is 4\n",
            "The Shape sides is 5\n",
            "The Shape sides is 8\n"
          ]
        }
      ]
    }
  ]
}