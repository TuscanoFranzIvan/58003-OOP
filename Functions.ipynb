{
  "nbformat": 4,
  "nbformat_minor": 0,
  "metadata": {
    "colab": {
      "provenance": [],
      "authorship_tag": "ABX9TyObHXOOuvnuJXDH/AdofCzt",
      "include_colab_link": true
    },
    "kernelspec": {
      "name": "python3",
      "display_name": "Python 3"
    },
    "language_info": {
      "name": "python"
    }
  },
  "cells": [
    {
      "cell_type": "markdown",
      "metadata": {
        "id": "view-in-github",
        "colab_type": "text"
      },
      "source": [
        "<a href=\"https://colab.research.google.com/github/TuscanoFranzIvan/58003-OOP/blob/main/Functions.ipynb\" target=\"_parent\"><img src=\"https://colab.research.google.com/assets/colab-badge.svg\" alt=\"Open In Colab\"/></a>"
      ]
    },
    {
      "cell_type": "code",
      "execution_count": 4,
      "metadata": {
        "colab": {
          "base_uri": "https://localhost:8080/"
        },
        "id": "KGqHe7tVAmJQ",
        "outputId": "9a510bca-c00d-49d1-874e-a04359f77f52"
      },
      "outputs": [
        {
          "output_type": "stream",
          "name": "stdout",
          "text": [
            "['abc', 1, 3, 1]\n",
            "['abc', 1, 2, 3, 1]\n"
          ]
        }
      ],
      "source": [
        "fruits = ['abc', 1,3,1]\n",
        "\n",
        "print(fruits)\n",
        "fruits.insert(2,2)\n",
        "print(fruits)"
      ]
    },
    {
      "cell_type": "code",
      "source": [
        "class Persons:\n",
        "  def __init__(self,name,age):\n",
        "    self.name = name\n",
        "    self.age = age\n",
        "\n",
        "student = Persons(\"Tuscano\", 21)\n",
        "teacher = Persons(\"Mam Sayo\",40)\n",
        "print(student.name)\n",
        "print(student.age)\n",
        "\n",
        "print(teacher.name)\n",
        "print(teacher.age)"
      ],
      "metadata": {
        "colab": {
          "base_uri": "https://localhost:8080/"
        },
        "id": "4TndLHTkCMQY",
        "outputId": "18082364-0f78-4d8d-b1bd-2ebc03f458ab"
      },
      "execution_count": 7,
      "outputs": [
        {
          "output_type": "stream",
          "name": "stdout",
          "text": [
            "Tuscano\n",
            "21\n",
            "Mam Sayo\n",
            "40\n"
          ]
        }
      ]
    },
    {
      "cell_type": "code",
      "source": [
        "#function that will solve for the area of rectangle\n",
        "\n",
        "def rectangle_area(base,height):\n",
        "  z = base*height\n",
        "  print(\"The area is \" + str(z))\n",
        "rectangle_area(5,6)"
      ],
      "metadata": {
        "colab": {
          "base_uri": "https://localhost:8080/"
        },
        "id": "Kav8KwcgDv-4",
        "outputId": "2572831e-ed65-4936-94f1-8ccb18bb681b"
      },
      "execution_count": 10,
      "outputs": [
        {
          "output_type": "stream",
          "name": "stdout",
          "text": [
            "The area is 30\n"
          ]
        }
      ]
    },
    {
      "cell_type": "code",
      "source": [
        "#function that will solve for the area of rectangle\n",
        "class Shapes:\n",
        "  def __init__(self,length,width):\n",
        "    self.length = length\n",
        "    self.width = width\n",
        "  def area(self):\n",
        "    return self.length * self.width\n",
        "\n",
        "rectangle = Shapes(10,5)\n",
        "rectangle.area()"
      ],
      "metadata": {
        "colab": {
          "base_uri": "https://localhost:8080/"
        },
        "id": "oKgiE-H5EuB3",
        "outputId": "1ba994f2-4540-4573-af7a-a8e1a03ef367"
      },
      "execution_count": 18,
      "outputs": [
        {
          "output_type": "execute_result",
          "data": {
            "text/plain": [
              "50"
            ]
          },
          "metadata": {},
          "execution_count": 18
        }
      ]
    },
    {
      "cell_type": "markdown",
      "source": [
        "Lists"
      ],
      "metadata": {
        "id": "NSvgZjSVJEwk"
      }
    },
    {
      "cell_type": "code",
      "source": [
        "pi = 3.1416\n",
        "varlist = [1, 2, 'abc', \"Hello\", pi]\n",
        "print(varlist[0])\n",
        "print(varlist[2])\n",
        "print(varlist[3])\n",
        "print(varlist[4])"
      ],
      "metadata": {
        "colab": {
          "base_uri": "https://localhost:8080/"
        },
        "id": "HYG44NxyJFvF",
        "outputId": "81d52f0b-4eda-464e-ea17-e457a40498b6"
      },
      "execution_count": 23,
      "outputs": [
        {
          "output_type": "stream",
          "name": "stdout",
          "text": [
            "1\n",
            "abc\n",
            "Hello\n",
            "3.1416\n"
          ]
        }
      ]
    },
    {
      "cell_type": "code",
      "source": [
        "varlist.append(5)\n",
        "print(varlist)"
      ],
      "metadata": {
        "colab": {
          "base_uri": "https://localhost:8080/"
        },
        "id": "qwq8DCknJtw0",
        "outputId": "bcaa2520-b44f-45ee-f507-e4d94956bcac"
      },
      "execution_count": 24,
      "outputs": [
        {
          "output_type": "stream",
          "name": "stdout",
          "text": [
            "[1, 2, 'abc', 'Hello', 3.1416, 5]\n"
          ]
        }
      ]
    },
    {
      "cell_type": "code",
      "source": [
        "varlist.remove(pi)\n",
        "print(varlist)"
      ],
      "metadata": {
        "colab": {
          "base_uri": "https://localhost:8080/"
        },
        "id": "JqbjEYUBJ7dL",
        "outputId": "8fcd1f9c-a75d-4d2c-f145-c4712c0a258d"
      },
      "execution_count": 26,
      "outputs": [
        {
          "output_type": "stream",
          "name": "stdout",
          "text": [
            "[1, 2, 'abc', 'Hello', 5]\n"
          ]
        }
      ]
    },
    {
      "cell_type": "markdown",
      "source": [
        "Dictionaries"
      ],
      "metadata": {
        "id": "GevfBa7pKRVL"
      }
    },
    {
      "cell_type": "code",
      "source": [
        "var = \"Hello World\"\n",
        "varDict = {'first' : 123, \n",
        "           2: 'abc', \n",
        "           '3':var, \n",
        "           4: ['lista', 'listb'],\n",
        "           2: 'def',\n",
        "           2: 'ghi'\n",
        "          }\n",
        "print(varDict)"
      ],
      "metadata": {
        "colab": {
          "base_uri": "https://localhost:8080/"
        },
        "id": "gq3S5_7_KT6E",
        "outputId": "19df8520-f574-49bb-b8bb-916bf416ed12"
      },
      "execution_count": 43,
      "outputs": [
        {
          "output_type": "stream",
          "name": "stdout",
          "text": [
            "{'first': 123, 2: 'ghi', '3': 'Hello World', 4: ['lista', 'listb']}\n"
          ]
        }
      ]
    },
    {
      "cell_type": "code",
      "source": [
        "print(varDict[2])"
      ],
      "metadata": {
        "colab": {
          "base_uri": "https://localhost:8080/"
        },
        "id": "7dYKaBS8Lttb",
        "outputId": "132b99b2-a09a-4e5f-db2f-28e364b808a9"
      },
      "execution_count": 31,
      "outputs": [
        {
          "output_type": "stream",
          "name": "stdout",
          "text": [
            "abc\n"
          ]
        }
      ]
    },
    {
      "cell_type": "code",
      "source": [
        "print(varDict[4])"
      ],
      "metadata": {
        "colab": {
          "base_uri": "https://localhost:8080/"
        },
        "id": "dKeBxzSXLv5z",
        "outputId": "e25540d5-0979-4a91-957e-ebaff8bf401f"
      },
      "execution_count": 33,
      "outputs": [
        {
          "output_type": "stream",
          "name": "stdout",
          "text": [
            "['lista', 'listb']\n"
          ]
        }
      ]
    },
    {
      "cell_type": "markdown",
      "source": [
        "Slicing Method"
      ],
      "metadata": {
        "id": "pEGcm_-OOKrS"
      }
    },
    {
      "cell_type": "code",
      "source": [
        "varlist = [1,2,3,4,5,6,7,8,9,10]\n",
        "print(varlist[:6])"
      ],
      "metadata": {
        "colab": {
          "base_uri": "https://localhost:8080/"
        },
        "id": "81_rpGEJOPMZ",
        "outputId": "8bb9c5a9-0bdb-49f4-a928-fb316fad7b4b"
      },
      "execution_count": 44,
      "outputs": [
        {
          "output_type": "stream",
          "name": "stdout",
          "text": [
            "[1, 2, 3, 4, 5, 6]\n"
          ]
        }
      ]
    },
    {
      "cell_type": "code",
      "source": [
        "varlist = [1,2,3,4,5,6,7,8,9,10]\n",
        "print(varlist[6:])"
      ],
      "metadata": {
        "colab": {
          "base_uri": "https://localhost:8080/"
        },
        "id": "bWXj83uQOYpZ",
        "outputId": "24a2af02-c05c-4396-ffef-c5556d080e4d"
      },
      "execution_count": 45,
      "outputs": [
        {
          "output_type": "stream",
          "name": "stdout",
          "text": [
            "[7, 8, 9, 10]\n"
          ]
        }
      ]
    },
    {
      "cell_type": "code",
      "source": [
        "varlist = [1,2,3,4,5,6,7,8,9,10]\n",
        "print(varlist[:-4])"
      ],
      "metadata": {
        "colab": {
          "base_uri": "https://localhost:8080/"
        },
        "id": "bJVG2E5IOcFx",
        "outputId": "2e48ae73-ca81-4e79-bdff-c04ec0e7a39c"
      },
      "execution_count": 46,
      "outputs": [
        {
          "output_type": "stream",
          "name": "stdout",
          "text": [
            "[1, 2, 3, 4, 5, 6]\n"
          ]
        }
      ]
    },
    {
      "cell_type": "code",
      "source": [
        "varlist = [1,2,3,4,5,6,7,8,9,10]\n",
        "print(varlist[-4:8])"
      ],
      "metadata": {
        "colab": {
          "base_uri": "https://localhost:8080/"
        },
        "id": "ZAcujQNXOfnh",
        "outputId": "770d6ff7-5117-40b5-e7c9-bfa773acedfb"
      },
      "execution_count": 47,
      "outputs": [
        {
          "output_type": "stream",
          "name": "stdout",
          "text": [
            "[7, 8]\n"
          ]
        }
      ]
    },
    {
      "cell_type": "code",
      "source": [
        "varlist = [1,2,3,4,5,6,7,8,9,10]\n",
        "print(varlist[2:-2])"
      ],
      "metadata": {
        "colab": {
          "base_uri": "https://localhost:8080/"
        },
        "id": "XgIcEPmaOlMR",
        "outputId": "cd75ffe3-1d54-4913-f078-b7ff530ae14c"
      },
      "execution_count": 49,
      "outputs": [
        {
          "output_type": "stream",
          "name": "stdout",
          "text": [
            "[3, 4, 5, 6, 7, 8]\n"
          ]
        }
      ]
    },
    {
      "cell_type": "code",
      "source": [
        "varlist = [1,2,3,4,5,6,7,8,9,10]\n",
        "print(varlist[2:10:3])"
      ],
      "metadata": {
        "colab": {
          "base_uri": "https://localhost:8080/"
        },
        "id": "v-en2jtoOomx",
        "outputId": "2a245a39-d0fd-4d8d-8786-3043a386998b"
      },
      "execution_count": 50,
      "outputs": [
        {
          "output_type": "stream",
          "name": "stdout",
          "text": [
            "[3, 6, 9]\n"
          ]
        }
      ]
    },
    {
      "cell_type": "code",
      "source": [
        "#to produce only the first two column in the set\n",
        "varlist = [1,2,3,4,5,6,7,8,9,10]\n",
        "print(varlist[:2])"
      ],
      "metadata": {
        "colab": {
          "base_uri": "https://localhost:8080/"
        },
        "id": "Lv-DkkEXPEnB",
        "outputId": "ad5d855a-53f6-46cf-cfb2-4c45557c69c7"
      },
      "execution_count": 60,
      "outputs": [
        {
          "output_type": "stream",
          "name": "stdout",
          "text": [
            "[1, 2]\n"
          ]
        }
      ]
    }
  ]
}