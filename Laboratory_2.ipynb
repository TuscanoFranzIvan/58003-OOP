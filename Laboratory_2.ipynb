{
  "nbformat": 4,
  "nbformat_minor": 0,
  "metadata": {
    "colab": {
      "provenance": [],
      "authorship_tag": "ABX9TyOej/aIGc2ZqYG7lMobga16",
      "include_colab_link": true
    },
    "kernelspec": {
      "name": "python3",
      "display_name": "Python 3"
    },
    "language_info": {
      "name": "python"
    }
  },
  "cells": [
    {
      "cell_type": "markdown",
      "metadata": {
        "id": "view-in-github",
        "colab_type": "text"
      },
      "source": [
        "<a href=\"https://colab.research.google.com/github/TuscanoFranzIvan/58003-OOP/blob/main/Laboratory_2.ipynb\" target=\"_parent\"><img src=\"https://colab.research.google.com/assets/colab-badge.svg\" alt=\"Open In Colab\"/></a>"
      ]
    },
    {
      "cell_type": "code",
      "execution_count": 1,
      "metadata": {
        "colab": {
          "base_uri": "https://localhost:8080/"
        },
        "id": "d80pQtpDD-1P",
        "outputId": "950f0f77-e8ff-4762-efad-bc3a83d7b1fd"
      },
      "outputs": [
        {
          "output_type": "stream",
          "name": "stdout",
          "text": [
            "Enter the radius of the circle: 10\n",
            "The perimeter of the circle is: 62.8318\n",
            "The area of the circle is: 314.159\n"
          ]
        }
      ],
      "source": [
        "class Circle:\n",
        "    pi = 3.14159\n",
        "    \n",
        "    def __init__(self, radius):\n",
        "        self.radius = radius\n",
        "        \n",
        "    def Perimeter(self):\n",
        "        return 2 * Circle.pi * self.radius\n",
        "    \n",
        "    def Area(self):\n",
        "        return Circle.pi * (self.radius ** 2)\n",
        "    \n",
        "    def Display(self):\n",
        "        perimeter = self.Perimeter()\n",
        "        area = self.Area()\n",
        "        print(f\"The perimeter of the circle is: {perimeter}\")\n",
        "        print(f\"The area of the circle is: {area}\")\n",
        "        \n",
        "radius = float(input(\"Enter the radius of the circle: \"))\n",
        "circle = Circle(radius)\n",
        "circle.Display()"
      ]
    }
  ]
}